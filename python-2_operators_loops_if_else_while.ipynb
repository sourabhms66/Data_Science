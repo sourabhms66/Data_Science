{
 "cells": [
  {
   "cell_type": "markdown",
   "metadata": {},
   "source": [
    "## Arithmetic operator"
   ]
  },
  {
   "cell_type": "code",
   "execution_count": 2,
   "metadata": {},
   "outputs": [
    {
     "name": "stdout",
     "output_type": "stream",
     "text": [
      "9\n",
      "-1\n",
      "20\n",
      "0.8\n",
      "True\n",
      "False\n",
      "16\n",
      "2\n",
      "1\n"
     ]
    }
   ],
   "source": [
    "print(4+5)\n",
    "print(4-5)\n",
    "print(4*5)\n",
    "print(4/5)\n",
    "print(4**2) # power of operator\n",
    "print(7%5) # modulus operator\n",
    "print(6//5) # integer division"
   ]
  },
  {
   "cell_type": "markdown",
   "metadata": {},
   "source": [
    "## Relational operator"
   ]
  },
  {
   "cell_type": "code",
   "execution_count": 3,
   "metadata": {},
   "outputs": [
    {
     "name": "stdout",
     "output_type": "stream",
     "text": [
      "True\n",
      "False\n",
      "True\n",
      "False\n",
      "True\n",
      "False\n"
     ]
    }
   ],
   "source": [
    "print(4!=5)\n",
    "print(4>5)\n",
    "print(3<4)\n",
    "print(3>=4)\n",
    "print(4<=5)\n",
    "print(3==4)"
   ]
  },
  {
   "cell_type": "markdown",
   "metadata": {},
   "source": [
    "## Logical operator"
   ]
  },
  {
   "cell_type": "code",
   "execution_count": 6,
   "metadata": {},
   "outputs": [
    {
     "name": "stdout",
     "output_type": "stream",
     "text": [
      "0\n",
      "1\n",
      "True\n"
     ]
    }
   ],
   "source": [
    "print(1 and 0)\n",
    "print(1 or 0)\n",
    "print(not 0)"
   ]
  },
  {
   "cell_type": "markdown",
   "metadata": {},
   "source": [
    "## Bitwise operator work on the binary values\n",
    "\n",
    "- 10     2\n",
    "- 11     3\n",
    "\n",
    "binary and operation:\n",
    "\n",
    "- 10 which is binary value of 2\n"
   ]
  },
  {
   "cell_type": "code",
   "execution_count": 7,
   "metadata": {},
   "outputs": [
    {
     "name": "stdout",
     "output_type": "stream",
     "text": [
      "2\n"
     ]
    }
   ],
   "source": [
    "print(2 & 3) # bitwise and"
   ]
  },
  {
   "cell_type": "markdown",
   "metadata": {},
   "source": [
    "### bitwise or\n",
    "\n",
    "- 10   2\n",
    "- 11   3\n",
    "\n",
    "binary and operation:\n",
    "\n",
    "- 11 which is binary value of 3"
   ]
  },
  {
   "cell_type": "code",
   "execution_count": 8,
   "metadata": {},
   "outputs": [
    {
     "name": "stdout",
     "output_type": "stream",
     "text": [
      "3\n"
     ]
    }
   ],
   "source": [
    "print(2 | 3) # bit wise or"
   ]
  },
  {
   "cell_type": "markdown",
   "metadata": {},
   "source": [
    "### bitwise xor\n",
    "\n",
    "- 10   2\n",
    "- 11   3\n",
    "\n",
    "binary and operation:\n",
    "\n",
    "- 01 which is binary value of 1"
   ]
  },
  {
   "cell_type": "code",
   "execution_count": 9,
   "metadata": {},
   "outputs": [
    {
     "name": "stdout",
     "output_type": "stream",
     "text": [
      "1\n"
     ]
    }
   ],
   "source": [
    "print(2 ^ 3)"
   ]
  },
  {
   "cell_type": "code",
   "execution_count": 10,
   "metadata": {},
   "outputs": [
    {
     "name": "stdout",
     "output_type": "stream",
     "text": [
      "-4\n",
      "1\n",
      "20\n"
     ]
    }
   ],
   "source": [
    "print(~3) # bitwise not; 0 become 1, 1 become 0 in 3's bit pattern\n",
    "print(4 >> 2) # leftshift; shift the bitpatttern of binary value of 4\n",
    "print(5 << 2) # bitwise right shift"
   ]
  },
  {
   "cell_type": "markdown",
   "metadata": {},
   "source": [
    "## Assignment operator"
   ]
  },
  {
   "cell_type": "code",
   "execution_count": 16,
   "metadata": {},
   "outputs": [
    {
     "name": "stdout",
     "output_type": "stream",
     "text": [
      "2\n",
      "3\n",
      "5\n",
      "7\n",
      "2\n",
      "1\n"
     ]
    }
   ],
   "source": [
    "a = 2\n",
    "print(a)\n",
    "a = 2 + 1\n",
    "print(a)\n",
    "a += 2\n",
    "print(a)\n",
    "a = 7\n",
    "print(a)\n",
    "a = a % 5\n",
    "print(a)\n",
    "a = 7\n",
    "a %= 3\n",
    "print(a)"
   ]
  },
  {
   "cell_type": "markdown",
   "metadata": {},
   "source": [
    "## Membership operator"
   ]
  },
  {
   "cell_type": "code",
   "execution_count": 20,
   "metadata": {},
   "outputs": [
    {
     "name": "stdout",
     "output_type": "stream",
     "text": [
      "True\n",
      "False\n",
      "False\n"
     ]
    }
   ],
   "source": [
    "print('S' in 'Sourabh')\n",
    "print('u' not in 'Sourabh')\n",
    "print(1 in [2,3,4,5])"
   ]
  },
  {
   "cell_type": "markdown",
   "metadata": {},
   "source": [
    "## Question: Return the sum of intergrs of a 3 digit number given by the user"
   ]
  },
  {
   "cell_type": "code",
   "execution_count": 22,
   "metadata": {},
   "outputs": [
    {
     "name": "stdout",
     "output_type": "stream",
     "text": [
      "6\n"
     ]
    }
   ],
   "source": [
    "num = int(input('Enter a 3 digit number: '))\n",
    "x = num % 10\n",
    "y = num//10\n",
    "z = y%10\n",
    "p = y//10\n",
    "print(x+z+p)"
   ]
  },
  {
   "cell_type": "markdown",
   "metadata": {},
   "source": [
    "## If else statements: to handel branching in a code"
   ]
  },
  {
   "cell_type": "code",
   "execution_count": 26,
   "metadata": {},
   "outputs": [
    {
     "name": "stdout",
     "output_type": "stream",
     "text": [
      "Both the numbers are same\n"
     ]
    }
   ],
   "source": [
    "num1 = int(input('Enter the first number'))\n",
    "num2 = int(input('Enter the first number'))\n",
    "\n",
    "if num2 > num1:\n",
    "    print('Secend number is lerger')\n",
    "elif num1 == num2:\n",
    "    print(\"Both the numbers are same\")\n",
    "else:\n",
    "    print(\"the first number is lerger\")"
   ]
  },
  {
   "cell_type": "markdown",
   "metadata": {},
   "source": [
    "## Find the max number of 3 given number"
   ]
  },
  {
   "cell_type": "code",
   "execution_count": 33,
   "metadata": {},
   "outputs": [
    {
     "name": "stdout",
     "output_type": "stream",
     "text": [
      "Third number is larger\n"
     ]
    }
   ],
   "source": [
    "num1 = int(input('Enter the first number'))\n",
    "num2 = int(input('Enter the secopnd number'))\n",
    "num3 = int(input('Enter the third number'))\n",
    "\n",
    "if num3 > num2 and num3 > num1:\n",
    "    print('Third number is larger')\n",
    "elif num2 > num1 and num2 > num3:\n",
    "    print(\"The second number is larger\")\n",
    "else:\n",
    "    print(\"The first number is lerger\")"
   ]
  },
  {
   "cell_type": "markdown",
   "metadata": {},
   "source": [
    "- Example: a code to check the login credential"
   ]
  },
  {
   "cell_type": "code",
   "execution_count": 2,
   "metadata": {},
   "outputs": [
    {
     "name": "stdout",
     "output_type": "stream",
     "text": [
      "Incorrect email or password, try again\n"
     ]
    }
   ],
   "source": [
    "email = input(\"Enter the email\")\n",
    "password = input(\"Enter the password\")\n",
    "\n",
    "if email =='email.com' and password =='password':\n",
    "    print(\"welcode\")\n",
    "else:\n",
    "    print(\"Incorrect email or password, try again\")"
   ]
  },
  {
   "cell_type": "markdown",
   "metadata": {},
   "source": [
    "Branch within abranch:"
   ]
  },
  {
   "cell_type": "code",
   "execution_count": 9,
   "metadata": {},
   "outputs": [
    {
     "name": "stdout",
     "output_type": "stream",
     "text": [
      "Incorrect password, try again\n",
      "your account has been blocked!\n"
     ]
    }
   ],
   "source": [
    "email = input(\"Enter the email\")\n",
    "password = input(\"Enter the password\")\n",
    "\n",
    "if email =='email.com' and password =='password':\n",
    "    print(\"welcode\")\n",
    "elif email == 'email.com' and password != 'password':\n",
    "    print(\"Incorrect password, try again\")\n",
    "    password = input(\"Enter the password\")\n",
    "    if password == 'password':\n",
    "        print(\"welcome\")\n",
    "    else:\n",
    "        print(\"your account has been blocked!\")\n",
    "else:\n",
    "    print(\"Incorrect email or password, try again\")"
   ]
  },
  {
   "cell_type": "markdown",
   "metadata": {},
   "source": [
    "## Menu driven calculator"
   ]
  },
  {
   "cell_type": "code",
   "execution_count": 35,
   "metadata": {},
   "outputs": [
    {
     "name": "stdout",
     "output_type": "stream",
     "text": [
      "2211\n"
     ]
    }
   ],
   "source": [
    "num1 = int(input('Enter the first number'))\n",
    "num2 = int(input('Enter the secopnd number'))\n",
    "op = input(\"\"\"Enter the operation you want to perform,\n",
    "           + for addition\n",
    "           - for substraction\n",
    "           / for division\n",
    "           * for multiplication\n",
    "           \"\"\")\n",
    "\n",
    "if op =='+':\n",
    "    print(num1+num2)\n",
    "elif op =='-':\n",
    "    print(num1-num2)\n",
    "elif op =='*':\n",
    "    print(num1*num2)\n",
    "else:\n",
    "    print(num1/num2)\n"
   ]
  },
  {
   "cell_type": "markdown",
   "metadata": {},
   "source": [
    "## Menu driven ATM"
   ]
  },
  {
   "cell_type": "code",
   "execution_count": null,
   "metadata": {},
   "outputs": [],
   "source": [
    "menu = input(\"\"\"\n",
    "Hi! how can I help you.\n",
    "1. Enter 1 for pin change\n",
    "2. Enter 2 for balance check\n",
    "3. Enter 3 for withdrawl\n",
    "4. Enter 4 for exit\n",
    "\"\"\")\n",
    "\n",
    "if menu == '1':\n",
    "  print('pin change')\n",
    "elif menu == '2':\n",
    "  print('balance')\n",
    "else:\n",
    "  print('exit')"
   ]
  },
  {
   "cell_type": "markdown",
   "metadata": {},
   "source": [
    "## Modeules in python:\n",
    "\n",
    "- Math\n",
    "\n",
    "- keyword\n",
    "\n",
    "- random\n",
    "\n",
    "- datetime"
   ]
  },
  {
   "cell_type": "markdown",
   "metadata": {},
   "source": [
    "Importing 'math' module and to accessing its functions type 'math.' and wait to see all the functions"
   ]
  },
  {
   "cell_type": "code",
   "execution_count": 1,
   "metadata": {},
   "outputs": [
    {
     "data": {
      "text/plain": [
       "120"
      ]
     },
     "execution_count": 1,
     "metadata": {},
     "output_type": "execute_result"
    }
   ],
   "source": [
    "import math\n",
    "math.factorial(5)"
   ]
  },
  {
   "cell_type": "markdown",
   "metadata": {},
   "source": [
    "Floor\n",
    "\n",
    "to get the previous integer"
   ]
  },
  {
   "cell_type": "code",
   "execution_count": 2,
   "metadata": {},
   "outputs": [
    {
     "data": {
      "text/plain": [
       "5"
      ]
     },
     "execution_count": 2,
     "metadata": {},
     "output_type": "execute_result"
    }
   ],
   "source": [
    "math.floor(5.78)"
   ]
  },
  {
   "cell_type": "markdown",
   "metadata": {},
   "source": [
    "Modeule: keyword"
   ]
  },
  {
   "cell_type": "code",
   "execution_count": 3,
   "metadata": {},
   "outputs": [
    {
     "name": "stdout",
     "output_type": "stream",
     "text": [
      "['False', 'None', 'True', 'and', 'as', 'assert', 'async', 'await', 'break', 'class', 'continue', 'def', 'del', 'elif', 'else', 'except', 'finally', 'for', 'from', 'global', 'if', 'import', 'in', 'is', 'lambda', 'nonlocal', 'not', 'or', 'pass', 'raise', 'return', 'try', 'while', 'with', 'yield']\n"
     ]
    }
   ],
   "source": [
    "import keyword\n",
    "print(keyword.kwlist)"
   ]
  },
  {
   "cell_type": "markdown",
   "metadata": {},
   "source": [
    "Random module"
   ]
  },
  {
   "cell_type": "code",
   "execution_count": 5,
   "metadata": {},
   "outputs": [
    {
     "data": {
      "text/plain": [
       "38"
      ]
     },
     "execution_count": 5,
     "metadata": {},
     "output_type": "execute_result"
    }
   ],
   "source": [
    "import random\n",
    "random.randint(1,50)"
   ]
  },
  {
   "cell_type": "markdown",
   "metadata": {},
   "source": [
    "Module datetime"
   ]
  },
  {
   "cell_type": "code",
   "execution_count": 6,
   "metadata": {},
   "outputs": [
    {
     "data": {
      "text/plain": [
       "datetime.datetime(2024, 1, 20, 10, 28, 47, 479583)"
      ]
     },
     "execution_count": 6,
     "metadata": {},
     "output_type": "execute_result"
    }
   ],
   "source": [
    "import datetime\n",
    "datetime.datetime.now()"
   ]
  },
  {
   "cell_type": "markdown",
   "metadata": {},
   "source": [
    "To print all the module in the python"
   ]
  },
  {
   "cell_type": "code",
   "execution_count": 7,
   "metadata": {},
   "outputs": [
    {
     "name": "stdout",
     "output_type": "stream",
     "text": [
      "\n",
      "Please wait a moment while I gather a list of all available modules...\n",
      "\n",
      "test_sqlite3: testing with version '2.6.0', sqlite_version '3.42.0'\n"
     ]
    },
    {
     "name": "stderr",
     "output_type": "stream",
     "text": [
      "/Library/Frameworks/Python.framework/Versions/3.11/lib/python3.11/pkgutil.py:92: UserWarning: The numpy.array_api submodule is still experimental. See NEP 47.\n",
      "  __import__(info.name)\n",
      "/Library/Frameworks/Python.framework/Versions/3.11/lib/python3.11/site-packages/_distutils_hack/__init__.py:33: UserWarning: Setuptools is replacing distutils.\n",
      "  warnings.warn(\"Setuptools is replacing distutils.\")\n",
      "2024-01-20 10:30:03,496 pip._internal.vcs.versioncontrol [DEBUG] - Registered VCS backend: bzr\n",
      "2024-01-20 10:30:03,497 pip._internal.vcs.versioncontrol [DEBUG] - Registered VCS backend: git\n",
      "2024-01-20 10:30:03,498 pip._internal.vcs.versioncontrol [DEBUG] - Registered VCS backend: hg\n",
      "2024-01-20 10:30:03,499 pip._internal.vcs.versioncontrol [DEBUG] - Registered VCS backend: svn\n",
      "2024-01-20 10:30:04,223 torch.distributed.nn.jit.instantiator [INFO] - Created a temporary directory at /var/folders/h1/njy9595n2lj4xjmnz1st5v4h0000gn/T/tmpex6qkc_v\n",
      "2024-01-20 10:30:04,224 torch.distributed.nn.jit.instantiator [INFO] - Writing /var/folders/h1/njy9595n2lj4xjmnz1st5v4h0000gn/T/tmpex6qkc_v/_remote_module_non_scriptable.py\n",
      "/Library/Frameworks/Python.framework/Versions/3.11/lib/python3.11/site-packages/torch/distributed/_shard/checkpoint/__init__.py:8: DeprecationWarning: torch.distributed._shard.checkpoint will be deprecated, use torch.distributed.checkpoint instead\n",
      "  warnings.warn(\n",
      "/Library/Frameworks/Python.framework/Versions/3.11/lib/python3.11/site-packages/torch/distributed/_sharded_tensor/__init__.py:8: DeprecationWarning: torch.distributed._sharded_tensor will be deprecated, use torch.distributed._shard.sharded_tensor instead\n",
      "  warnings.warn(\n",
      "/Library/Frameworks/Python.framework/Versions/3.11/lib/python3.11/site-packages/torch/distributed/_sharding_spec/__init__.py:8: DeprecationWarning: torch.distributed._sharding_spec will be deprecated, use torch.distributed._shard.sharding_spec instead\n",
      "  warnings.warn(\n",
      "2024-01-20 10:30:04,601 torch.distributed.elastic.multiprocessing.redirects [WARNING] - NOTE: Redirects are currently not supported in Windows or MacOs.\n",
      "/Library/Frameworks/Python.framework/Versions/3.11/lib/python3.11/site-packages/setuptools/command/build_ext.py:8: DeprecationWarning: The distutils package is deprecated and slated for removal in Python 3.12. Use setuptools or check PEP 632 for potential alternatives\n",
      "  from distutils.command.build_ext import build_ext as _du_build_ext\n",
      "/Library/Frameworks/Python.framework/Versions/3.11/lib/python3.11/distutils/command/build_ext.py:13: DeprecationWarning: The distutils.sysconfig module is deprecated, use sysconfig instead\n",
      "  from distutils.sysconfig import customize_compiler, get_python_version\n",
      "2024-01-20 10:30:05,385 torchaudio._extension [DEBUG] - Failed to initialize ffmpeg bindings\n",
      "Traceback (most recent call last):\n",
      "  File \"/Library/Frameworks/Python.framework/Versions/3.11/lib/python3.11/site-packages/torchaudio/_extension/utils.py\", line 85, in _init_ffmpeg\n",
      "    _load_lib(\"libtorchaudio_ffmpeg\")\n",
      "  File \"/Library/Frameworks/Python.framework/Versions/3.11/lib/python3.11/site-packages/torchaudio/_extension/utils.py\", line 61, in _load_lib\n",
      "    torch.ops.load_library(path)\n",
      "  File \"/Library/Frameworks/Python.framework/Versions/3.11/lib/python3.11/site-packages/torch/_ops.py\", line 643, in load_library\n",
      "    ctypes.CDLL(path)\n",
      "  File \"/Library/Frameworks/Python.framework/Versions/3.11/lib/python3.11/ctypes/__init__.py\", line 376, in __init__\n",
      "    self._handle = _dlopen(self._name, mode)\n",
      "                   ^^^^^^^^^^^^^^^^^^^^^^^^^\n",
      "OSError: dlopen(/Library/Frameworks/Python.framework/Versions/3.11/lib/python3.11/site-packages/torchaudio/lib/libtorchaudio_ffmpeg.so, 0x0006): Library not loaded: @rpath/libavdevice.58.dylib\n",
      "  Referenced from: <00D3B28A-9088-32CE-B641-F43D64502379> /Library/Frameworks/Python.framework/Versions/3.11/lib/python3.11/site-packages/torchaudio/lib/libtorchaudio_ffmpeg.so\n",
      "  Reason: tried: '/usr/lib/libavdevice.58.dylib' (no such file, not in dyld cache)\n",
      "\n",
      "The above exception was the direct cause of the following exception:\n",
      "\n",
      "Traceback (most recent call last):\n",
      "  File \"/Library/Frameworks/Python.framework/Versions/3.11/lib/python3.11/site-packages/torchaudio/_extension/__init__.py\", line 67, in <module>\n",
      "    _init_ffmpeg()\n",
      "  File \"/Library/Frameworks/Python.framework/Versions/3.11/lib/python3.11/site-packages/torchaudio/_extension/utils.py\", line 87, in _init_ffmpeg\n",
      "    raise ImportError(\"FFmpeg libraries are not found. Please install FFmpeg.\") from err\n",
      "ImportError: FFmpeg libraries are not found. Please install FFmpeg.\n"
     ]
    },
    {
     "name": "stdout",
     "output_type": "stream",
     "text": [
      "IPython             aiohttp             imghdr              readline\n",
      "PIL                 aiosignal           imp                 reprlib\n",
      "__future__          antigravity         importlib           requests\n",
      "__hello__           appnope             iniconfig           resource\n",
      "__phello__          argparse            inspect             rlcompleter\n",
      "_abc                array               io                  runpy\n",
      "_aix_support        ast                 ipaddress           sched\n",
      "_ast                asttokens           ipykernel           secrets\n",
      "_asyncio            async_timeout       ipykernel_launcher  segment_anything\n",
      "_bisect             asynchat            ipytest             select\n",
      "_blake2             asyncio             isympy              selectors\n",
      "_bootsubprocess     asyncore            itertools           setuptools\n",
      "_bz2                atexit              jedi                shelve\n",
      "_codecs             attr                jinja2              shlex\n",
      "_codecs_cn          attrs               json                shutil\n",
      "_codecs_hk          audioop             jupyter             signal\n",
      "_codecs_iso2022     base64              jupyter_client      site\n",
      "_codecs_jp          bdb                 jupyter_core        six\n",
      "_codecs_kr          binascii            keyword             smtpd\n",
      "_codecs_tw          bisect              kiwisolver          smtplib\n",
      "_collections        builtins            lib2to3             sndhdr\n",
      "_collections_abc    bz2                 linecache           socket\n",
      "_compat_pickle      cProfile            locale              socketserver\n",
      "_compression        calendar            logging             sqlite3\n",
      "_contextvars        certifi             lzma                sre_compile\n",
      "_crypt              cgi                 mailbox             sre_constants\n",
      "_csv                cgitb               mailcap             sre_parse\n",
      "_ctypes             charset_normalizer  markupsafe          ssl\n",
      "_ctypes_test        chunk               marshal             stack_data\n",
      "_curses             cmath               math                stat\n",
      "_curses_panel       cmd                 matplotlib          statistics\n",
      "_datetime           code                matplotlib_inline   string\n",
      "_dbm                codecs              mimetypes           stringprep\n",
      "_decimal            codeop              mmap                struct\n",
      "_distutils_hack     collections         modulefinder        subprocess\n",
      "_elementtree        coloredlogs         mpmath              sunau\n",
      "_functools          colorsys            multidict           sympy\n",
      "_hashlib            comm                multiprocessing     symtable\n",
      "_heapq              compileall          mysql               sys\n",
      "_imp                concurrent          mysqlx              sysconfig\n",
      "_io                 configparser        nest_asyncio        syslog\n",
      "_json               contextlib          netrc               tabnanny\n",
      "_locale             contextvars         networkx            tarfile\n",
      "_lsprof             contourpy           nis                 telnetlib\n",
      "_lzma               copy                nntplib             tempfile\n",
      "_markupbase         copyreg             ntpath              termios\n",
      "_md5                crypt               nturl2path          test\n",
      "_multibytecodec     csv                 numbers             textwrap\n",
      "_multiprocessing    ctypes              numpy               this\n",
      "_opcode             curses              onnx                threading\n",
      "_operator           cv2                 onnxruntime         time\n",
      "_osx_support        cycler              opcode              timeit\n",
      "_pickle             dataclasses         openai              tkinter\n",
      "_posixshmem         datetime            operator            token\n",
      "_posixsubprocess    dateutil            optparse            tokenize\n",
      "_py_abc             dbm                 os                  tomllib\n",
      "_pydecimal          debugpy             packaging           torch\n",
      "_pyio               decimal             pandas              torchaudio\n",
      "_pytest             decorator           parso               torchgen\n",
      "_queue              difflib             pathlib             torchvision\n",
      "_random             dis                 pdb                 tornado\n",
      "_scproxy            distutils           pexpect             tqdm\n",
      "_sha1               doctest             pickle              trace\n",
      "_sha256             email               pickletools         traceback\n",
      "_sha3               encodings           pip                 tracemalloc\n",
      "_sha512             ensurepip           pipes               traitlets\n",
      "_signal             enum                pkg_resources       tty\n",
      "_sitebuiltins       errno               pkgutil             turtle\n",
      "_socket             executing           platform            turtledemo\n",
      "_sqlite3            faulthandler        platformdirs        types\n",
      "_sre                fcntl               plistlib            typing\n",
      "_ssl                filecmp             pluggy              typing_extensions\n",
      "_stat               fileinput           poplib              tzdata\n",
      "_statistics         filelock            posix               unicodedata\n",
      "_string             flatbuffers         posixpath           unittest\n",
      "_strptime           fnmatch             pprint              urllib\n",
      "_struct             fontTools           profile             urllib3\n",
      "_symtable           fractions           prompt_toolkit      uu\n",
      "_sysconfigdata__darwin_darwin frozenlist          pstats              uuid\n",
      "_testbuffer         ftplib              psutil              venv\n",
      "_testcapi           functools           pty                 warnings\n",
      "_testclinic         functorch           ptyprocess          wave\n",
      "_testimportmultiple gc                  pure_eval           wcwidth\n",
      "_testinternalcapi   genericpath         pwd                 weakref\n",
      "_testmultiphase     getopt              py                  webbrowser\n",
      "_thread             getpass             py_compile          wsgiref\n",
      "_threading_local    gettext             pyclbr              xdrlib\n",
      "_tkinter            glob                pycocotools         xml\n",
      "_tokenize           graphlib            pydoc               xmlrpc\n",
      "_tracemalloc        grp                 pydoc_data          xxlimited\n",
      "_typing             gzip                pyexpat             xxlimited_35\n",
      "_uuid               hashlib             pygments            xxsubtype\n",
      "_warnings           heapq               pylab               yarl\n",
      "_weakref            hmac                pyparsing           zipapp\n",
      "_weakrefset         html                pytest              zipfile\n",
      "_xxsubinterpreters  http                pytz                zipimport\n",
      "_xxtestfuzz         humanfriendly       queue               zlib\n",
      "_zoneinfo           idlelib             quopri              zmq\n",
      "abc                 idna                random              zoneinfo\n",
      "aifc                imaplib             re                  \n",
      "\n",
      "Enter any module name to get more help.  Or, type \"modules spam\" to search\n",
      "for modules whose name or summary contain the string \"spam\".\n",
      "\n"
     ]
    },
    {
     "name": "stderr",
     "output_type": "stream",
     "text": [
      "/Library/Frameworks/Python.framework/Versions/3.11/lib/python3.11/site-packages/torchvision/datapoints/__init__.py:12: UserWarning: The torchvision.datapoints and torchvision.transforms.v2 namespaces are still Beta. While we do not expect major breaking changes, some APIs may still change according to user feedback. Please submit any feedback you may have in this issue: https://github.com/pytorch/vision/issues/6753, and you can also check out https://github.com/pytorch/vision/issues/7319 to learn more about the APIs that we suspect might involve future changes. You can silence this warning by calling torchvision.disable_beta_transforms_warning().\n",
      "  warnings.warn(_BETA_TRANSFORMS_WARNING)\n",
      "/Library/Frameworks/Python.framework/Versions/3.11/lib/python3.11/site-packages/torchvision/transforms/v2/__init__.py:54: UserWarning: The torchvision.datapoints and torchvision.transforms.v2 namespaces are still Beta. While we do not expect major breaking changes, some APIs may still change according to user feedback. Please submit any feedback you may have in this issue: https://github.com/pytorch/vision/issues/6753, and you can also check out https://github.com/pytorch/vision/issues/7319 to learn more about the APIs that we suspect might involve future changes. You can silence this warning by calling torchvision.disable_beta_transforms_warning().\n",
      "  warnings.warn(_BETA_TRANSFORMS_WARNING)\n",
      "/Library/Frameworks/Python.framework/Versions/3.11/lib/python3.11/site-packages/tqdm/auto.py:21: TqdmWarning: IProgress not found. Please update jupyter and ipywidgets. See https://ipywidgets.readthedocs.io/en/stable/user_install.html\n",
      "  from .autonotebook import tqdm as notebook_tqdm\n"
     ]
    }
   ],
   "source": [
    "help(\"modules\")"
   ]
  },
  {
   "cell_type": "markdown",
   "metadata": {},
   "source": [
    "Loops in python"
   ]
  },
  {
   "cell_type": "markdown",
   "metadata": {},
   "source": [
    "In python we can use 'else' with the loops as well\n",
    "\n",
    "else with while loop"
   ]
  },
  {
   "cell_type": "code",
   "execution_count": 8,
   "metadata": {},
   "outputs": [
    {
     "name": "stdout",
     "output_type": "stream",
     "text": [
      "1\n",
      "2\n",
      "3\n",
      "4\n",
      "limit crossed\n"
     ]
    }
   ],
   "source": [
    "x=1\n",
    "while x<5:\n",
    "    print(x)\n",
    "    x+=1\n",
    "else:\n",
    "    print(\"limit crossed\")"
   ]
  },
  {
   "cell_type": "markdown",
   "metadata": {},
   "source": [
    "Creating a gussing game"
   ]
  },
  {
   "cell_type": "code",
   "execution_count": 9,
   "metadata": {},
   "outputs": [
    {
     "name": "stdout",
     "output_type": "stream",
     "text": [
      "Too small guess again\n",
      "Too big guess again\n",
      "Too big guess again\n",
      "Too big guess again\n",
      "Too big guess again\n",
      "Too small guess again\n",
      "Too big guess again\n",
      "Too big guess again\n",
      "you have guessed the correct number\n"
     ]
    }
   ],
   "source": [
    "import random\n",
    "num = 0\n",
    "x = random.randint(1,101)\n",
    "while num != x:\n",
    "    num = int(input(\"Enter a number: \"))\n",
    "    if num<x:\n",
    "        print(\"Too small guess again\")\n",
    "        num = int(input(\"Enter a number: \"))\n",
    "    elif num>x:\n",
    "        print(\"Too big guess again\")\n",
    "        num = int(input(\"Enter a number: \"))\n",
    "    else:\n",
    "        print(\"you have guessed the correct number\")"
   ]
  },
  {
   "cell_type": "code",
   "execution_count": 2,
   "metadata": {},
   "outputs": [],
   "source": [
    "import random\n",
    "num = int(input(\"Enter a number: \"))\n",
    "x = random.randint(1,100)\n",
    "counter = 1\n",
    "while num != x:\n",
    "    if num<x:\n",
    "        print(\"Too small guess again\")\n",
    "    else:\n",
    "        print(\"Too big guess again\")\n",
    "    num = int(input(\"Enter a number: \"))\n",
    "    counter+=1\n",
    "else:\n",
    "    print(\"you have guessed the correct number\")\n",
    "    print(\"total attempt\", counter)"
   ]
  },
  {
   "cell_type": "markdown",
   "metadata": {},
   "source": [
    "For loop\n",
    "\n",
    "If you do need to iterate over a sequence of numbers, the built-in function range() comes in handy.\n",
    "\n",
    "The given end point is never part of the generated sequence; for example range(5) generates 5 values. The legal indices for items of a sequence of length 5. That means 5 will not be included if the count start from 0 because 4 is the 5th count"
   ]
  },
  {
   "cell_type": "code",
   "execution_count": 8,
   "metadata": {},
   "outputs": [
    {
     "name": "stdout",
     "output_type": "stream",
     "text": [
      "0\n",
      "1\n",
      "2\n",
      "3\n",
      "4\n"
     ]
    }
   ],
   "source": [
    "for i in range (5):\n",
    "    print(i)"
   ]
  },
  {
   "cell_type": "markdown",
   "metadata": {},
   "source": [
    "As range(5) actually means range(0, 5)"
   ]
  },
  {
   "cell_type": "code",
   "execution_count": 12,
   "metadata": {},
   "outputs": [
    {
     "data": {
      "text/plain": [
       "range(0, 5)"
      ]
     },
     "execution_count": 12,
     "metadata": {},
     "output_type": "execute_result"
    }
   ],
   "source": [
    "range(5)"
   ]
  },
  {
   "cell_type": "code",
   "execution_count": 15,
   "metadata": {},
   "outputs": [
    {
     "data": {
      "text/plain": [
       "10"
      ]
     },
     "execution_count": 15,
     "metadata": {},
     "output_type": "execute_result"
    }
   ],
   "source": [
    "sum(range(5))# 0 + 1 + 2 + 3 + 4"
   ]
  },
  {
   "cell_type": "markdown",
   "metadata": {},
   "source": [
    "It is possible to let the range start at another number, or to specify a different increment (even negative; sometimes this is called the ‘step’):"
   ]
  },
  {
   "cell_type": "code",
   "execution_count": 9,
   "metadata": {},
   "outputs": [
    {
     "name": "stdout",
     "output_type": "stream",
     "text": [
      "5\n",
      "6\n",
      "7\n",
      "8\n",
      "9\n"
     ]
    }
   ],
   "source": [
    "for i in range (5,10):\n",
    "    print(i)"
   ]
  },
  {
   "cell_type": "markdown",
   "metadata": {},
   "source": [
    "Step is 3"
   ]
  },
  {
   "cell_type": "code",
   "execution_count": 10,
   "metadata": {},
   "outputs": [
    {
     "name": "stdout",
     "output_type": "stream",
     "text": [
      "0\n",
      "3\n",
      "6\n",
      "9\n"
     ]
    }
   ],
   "source": [
    "for i in range (0,10,3):\n",
    "    print(i)"
   ]
  },
  {
   "cell_type": "markdown",
   "metadata": {},
   "source": [
    "step is -30 (counting backward)"
   ]
  },
  {
   "cell_type": "code",
   "execution_count": 11,
   "metadata": {},
   "outputs": [
    {
     "name": "stdout",
     "output_type": "stream",
     "text": [
      "-10\n",
      "-40\n",
      "-70\n"
     ]
    }
   ],
   "source": [
    "for i in range (-10,-100,-30):\n",
    "    print(i)"
   ]
  },
  {
   "cell_type": "markdown",
   "metadata": {},
   "source": [
    "The for statement in Python differs a bit from what you may be used to in C or Pascal. Rather than always iterating over an arithmetic progression of numbers (like in Pascal), or giving the user the ability to define both the iteration step and halting condition (as C), Python’s for statement iterates over the items of any sequence (a list or a string), in the order that they appear in the sequence.\n",
    "\n",
    "for a string"
   ]
  },
  {
   "cell_type": "code",
   "execution_count": 13,
   "metadata": {},
   "outputs": [
    {
     "name": "stdout",
     "output_type": "stream",
     "text": [
      "a\n",
      "l\n",
      "i\n",
      "c\n",
      "e\n"
     ]
    }
   ],
   "source": [
    "for i in 'alice':\n",
    "    print(i)"
   ]
  },
  {
   "cell_type": "markdown",
   "metadata": {},
   "source": [
    "for a list"
   ]
  },
  {
   "cell_type": "code",
   "execution_count": 14,
   "metadata": {},
   "outputs": [
    {
     "name": "stdout",
     "output_type": "stream",
     "text": [
      "4\n",
      "6\n",
      "8\n",
      "9\n"
     ]
    }
   ],
   "source": [
    "for i in [4,6,8,9]:\n",
    "    print(i)"
   ]
  },
  {
   "cell_type": "markdown",
   "metadata": {},
   "source": [
    "it can also iterate over a tuple, set, list, dictionary as well "
   ]
  },
  {
   "cell_type": "code",
   "execution_count": 17,
   "metadata": {},
   "outputs": [
    {
     "name": "stdout",
     "output_type": "stream",
     "text": [
      "0 Mary\n",
      "1 had\n",
      "2 a\n",
      "3 little\n",
      "4 lamb\n"
     ]
    }
   ],
   "source": [
    "a = ['Mary', 'had', 'a', 'little', 'lamb']\n",
    "for i in range(len(a)):\n",
    "    print(i, a[i])"
   ]
  },
  {
   "cell_type": "code",
   "execution_count": 7,
   "metadata": {},
   "outputs": [
    {
     "name": "stdout",
     "output_type": "stream",
     "text": [
      "cat 3\n",
      "window 6\n",
      "defenestrate 12\n"
     ]
    }
   ],
   "source": [
    "words = ['cat', 'window', 'defenestrate']\n",
    "for w in words:\n",
    "    print(w,len(w))"
   ]
  },
  {
   "cell_type": "markdown",
   "metadata": {},
   "source": [
    "for a dictionary"
   ]
  },
  {
   "cell_type": "code",
   "execution_count": 19,
   "metadata": {},
   "outputs": [
    {
     "name": "stdout",
     "output_type": "stream",
     "text": [
      "{'Hans': 'active', '景太郎': 'active'}\n"
     ]
    }
   ],
   "source": [
    "# Create a sample collection\n",
    "users = {'Hans': 'active', 'Éléonore': 'inactive', '景太郎': 'active'}\n",
    "\n",
    "# Strategy:  Iterate over a copy\n",
    "for user, status in users.copy().items():\n",
    "    if status == 'inactive':\n",
    "        del users[user]\n",
    "\n",
    "# Strategy:  Create a new collection\n",
    "active_users = {}\n",
    "for user, status in users.items():\n",
    "    if status == 'active':\n",
    "        active_users[user] = status\n",
    "print(active_users)"
   ]
  },
  {
   "cell_type": "markdown",
   "metadata": {},
   "source": [
    "For loop example:\n",
    "\n",
    "A town has 10% population grouth per year and its current population is 10000, write a program to find out what was its population untill last 10 years."
   ]
  },
  {
   "cell_type": "code",
   "execution_count": 22,
   "metadata": {},
   "outputs": [
    {
     "name": "stdout",
     "output_type": "stream",
     "text": [
      "10000\n",
      "9090.90909090909\n",
      "8264.462809917353\n",
      "7513.148009015775\n",
      "6830.134553650703\n",
      "6209.213230591548\n",
      "5644.739300537771\n",
      "5131.5811823070635\n",
      "4665.07380209733\n",
      "4240.976183724845\n"
     ]
    }
   ],
   "source": [
    "p = 10000\n",
    "for i in range(10,0,-1):\n",
    "    print(p)\n",
    "    p = p/1.1\n"
   ]
  },
  {
   "cell_type": "markdown",
   "metadata": {},
   "source": [
    "Sequence sum:\n",
    "\n",
    "1/1! + 2/2! + 3/3! + ..."
   ]
  },
  {
   "cell_type": "code",
   "execution_count": 23,
   "metadata": {},
   "outputs": [
    {
     "name": "stdout",
     "output_type": "stream",
     "text": [
      "2.71827876984127\n"
     ]
    }
   ],
   "source": [
    "import math\n",
    "s = 0\n",
    "for i in range(1,10):\n",
    "    s = s + i/math.factorial(i)\n",
    "    if i == 9:\n",
    "        print(s)\n"
   ]
  },
  {
   "cell_type": "markdown",
   "metadata": {},
   "source": [
    "Without using math"
   ]
  },
  {
   "cell_type": "code",
   "execution_count": 3,
   "metadata": {},
   "outputs": [
    {
     "name": "stdout",
     "output_type": "stream",
     "text": [
      "2.71827876984127\n"
     ]
    }
   ],
   "source": [
    "num = int(input(\"Enter a number: \"))\n",
    "fac = 1\n",
    "sum = 0\n",
    "for i in range(1,num+1):\n",
    "    fac = fac * i\n",
    "    sum = sum + i/fac\n",
    "print(sum)"
   ]
  },
  {
   "cell_type": "markdown",
   "metadata": {},
   "source": [
    "Nested loop\n",
    "\n",
    "printing the pairs in range (1,4)"
   ]
  },
  {
   "cell_type": "code",
   "execution_count": 7,
   "metadata": {},
   "outputs": [
    {
     "name": "stdout",
     "output_type": "stream",
     "text": [
      "1 1\n",
      "1 2\n",
      "1 3\n",
      "2 1\n",
      "2 2\n",
      "2 3\n",
      "3 1\n",
      "3 2\n",
      "3 3\n"
     ]
    }
   ],
   "source": [
    "for i in range(1,4):\n",
    "    for j in range(1,4):\n",
    "        print(i,j)"
   ]
  },
  {
   "cell_type": "markdown",
   "metadata": {},
   "source": [
    "printing a pattern\n",
    "\n",
    "We are printing a '*' in a row, row times"
   ]
  },
  {
   "cell_type": "code",
   "execution_count": 14,
   "metadata": {},
   "outputs": [
    {
     "name": "stdout",
     "output_type": "stream",
     "text": [
      "* \n",
      "* * \n",
      "* * * \n",
      "* * * * \n"
     ]
    }
   ],
   "source": [
    "for i in range(1,5):\n",
    "    for j in range(1,i+1):\n",
    "        print(\"*\",end=\" \")\n",
    "    print()"
   ]
  },
  {
   "cell_type": "markdown",
   "metadata": {},
   "source": [
    "Pattern 2\n",
    "\n",
    "1\n",
    "\n",
    "121\n",
    "\n",
    "12321\n",
    "\n",
    "1234321\n",
    "\n"
   ]
  },
  {
   "cell_type": "code",
   "execution_count": 2,
   "metadata": {},
   "outputs": [
    {
     "name": "stdout",
     "output_type": "stream",
     "text": [
      "1 \n",
      "1 2 1 \n",
      "1 2 3 2 1 \n",
      "1 2 3 4 3 2 1 \n"
     ]
    }
   ],
   "source": [
    "for i in range(1,5):\n",
    "    for j in range(1,i+1):\n",
    "        print(j,end=\" \")\n",
    "    for k in range(j,1,-1):\n",
    "        print(k-1,end=\" \")\n",
    "    print()"
   ]
  },
  {
   "cell_type": "code",
   "execution_count": 3,
   "metadata": {},
   "outputs": [
    {
     "name": "stdout",
     "output_type": "stream",
     "text": [
      "1 \n",
      "1 2 1 \n",
      "1 2 3 2 1 \n",
      "1 2 3 4 3 2 1 \n"
     ]
    }
   ],
   "source": [
    "for i in range(1,5):\n",
    "    for j in range(1,i+1):\n",
    "        print(j,end=\" \")\n",
    "    for k in range(i-1,0,-1):\n",
    "        print(k,end=\" \")\n",
    "    print()"
   ]
  },
  {
   "cell_type": "markdown",
   "metadata": {},
   "source": [
    "Loop control system: Break Continue Pass\n",
    "\n",
    "Break"
   ]
  },
  {
   "cell_type": "code",
   "execution_count": 5,
   "metadata": {},
   "outputs": [
    {
     "name": "stdout",
     "output_type": "stream",
     "text": [
      "1\n",
      "2\n",
      "3\n",
      "4\n"
     ]
    }
   ],
   "source": [
    "for i in range(1,10):\n",
    "    if i == 5:\n",
    "        break\n",
    "    print(i)"
   ]
  },
  {
   "cell_type": "markdown",
   "metadata": {},
   "source": [
    "The break statement breaks out of the innermost enclosing for or while loop.\n",
    "\n",
    "A for or while loop can include an else clause.\n",
    "\n",
    "In a for loop, the else clause is executed after the loop reaches its final iteration.\n",
    "\n",
    "In a while loop, it’s executed after the loop’s condition becomes false.\n",
    "\n",
    "In either kind of loop, the else clause is not executed if the loop was terminated by a break.\n",
    "\n",
    "This is exemplified in the following for loop, which searches for prime numbers:"
   ]
  },
  {
   "cell_type": "code",
   "execution_count": 18,
   "metadata": {},
   "outputs": [
    {
     "name": "stdout",
     "output_type": "stream",
     "text": [
      "1\n",
      "2\n",
      "3\n",
      "5\n",
      "7\n"
     ]
    }
   ],
   "source": [
    "for i in range(1,10):\n",
    "    for j in range(2,i):\n",
    "        if i%j == 0:\n",
    "            #print(i,\"is divisible by\",j,\",\",j,\"X\",i/j)\n",
    "            break\n",
    "    else:\n",
    "        print(i)"
   ]
  },
  {
   "cell_type": "markdown",
   "metadata": {},
   "source": [
    "(Yes, this is the correct code. Look closely: the else clause belongs to the for loop, not the if statement.)\n",
    "\n",
    "When used with a loop, the else clause has more in common with the else clause of a try statement than it does with that of if statements: a try statement’s else clause runs when no exception occurs, and a loop’s else clause runs when no break occurs. We will discuss more on the try statement and exceptions, file Handling Exceptions."
   ]
  },
  {
   "cell_type": "markdown",
   "metadata": {},
   "source": []
  },
  {
   "cell_type": "markdown",
   "metadata": {},
   "source": [
    "Continue\n",
    "\n",
    "Python Continue statement is a loop control statement that forces to execute the next iteration of the loop while skipping the rest of the code inside the loop for the current iteration only, i.e. when the continue statement is executed in the loop, the code inside the loop following the continue statement will be skipped for the current iteration and the next iteration of the loop will begin.\n",
    "\n",
    "As we can see as soon as the value of i reached 7 it skip the rest of the code that is the next print statement fot that perticular iteration inside the for loop, didn't print 7."
   ]
  },
  {
   "cell_type": "code",
   "execution_count": 17,
   "metadata": {},
   "outputs": [
    {
     "name": "stdout",
     "output_type": "stream",
     "text": [
      "1\n",
      "2\n",
      "3\n",
      "4\n",
      "5\n",
      "6\n",
      "8\n",
      "9\n",
      "10\n"
     ]
    }
   ],
   "source": [
    "for i in range(1, 11):\n",
    "    if i == 7:\n",
    "        continue\n",
    "    print(i)"
   ]
  },
  {
   "cell_type": "markdown",
   "metadata": {},
   "source": [
    "Pass\n",
    "\n",
    "When the user does not know what code to write, So user simply places a pass at that line. Sometimes, the pass is used when the user doesn’t want any code to execute. So users can simply place a pass where empty code is not allowed, like in loops, function definitions, class definitions, or in if statements. So using a pass statement user avoids this error."
   ]
  },
  {
   "cell_type": "code",
   "execution_count": 19,
   "metadata": {},
   "outputs": [],
   "source": [
    "for i in range(1,10):\n",
    "    pass"
   ]
  },
  {
   "cell_type": "code",
   "execution_count": 20,
   "metadata": {},
   "outputs": [],
   "source": [
    "class Atm:\n",
    "    pass"
   ]
  },
  {
   "cell_type": "code",
   "execution_count": 6,
   "metadata": {},
   "outputs": [
    {
     "name": "stdout",
     "output_type": "stream",
     "text": [
      "1Found in the list.\n",
      "2Found in the list.\n",
      "3Found in the list.\n",
      "4Found in the list.\n",
      "5Found in the list.\n",
      "Zero not found in the list.\n"
     ]
    }
   ],
   "source": [
    "numbers = [1, 2, 3, 4, 5]\n",
    "\n",
    "for num in numbers:\n",
    "    if num !=0:\n",
    "        print(f\"{num}Found in the list.\")\n",
    "    elif num == 0:\n",
    "        print(\"Zero Found in the list.\")\n",
    "        break\n",
    "else:\n",
    "    print(\"Zero not found in the list.\")\n"
   ]
  },
  {
   "cell_type": "code",
   "execution_count": null,
   "metadata": {},
   "outputs": [],
   "source": []
  }
 ],
 "metadata": {
  "kernelspec": {
   "display_name": "Python 3",
   "language": "python",
   "name": "python3"
  },
  "language_info": {
   "codemirror_mode": {
    "name": "ipython",
    "version": 3
   },
   "file_extension": ".py",
   "mimetype": "text/x-python",
   "name": "python",
   "nbconvert_exporter": "python",
   "pygments_lexer": "ipython3",
   "version": "3.11.5"
  }
 },
 "nbformat": 4,
 "nbformat_minor": 2
}
