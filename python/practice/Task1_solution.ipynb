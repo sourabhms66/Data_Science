{
 "cells": [
  {
   "cell_type": "code",
   "execution_count": 4,
   "metadata": {},
   "outputs": [
    {
     "name": "stdout",
     "output_type": "stream",
     "text": [
      "Sam%1%4.5%True\n"
     ]
    }
   ],
   "source": [
    "print('Sam',1,4.5,True,sep='%')"
   ]
  },
  {
   "cell_type": "code",
   "execution_count": 6,
   "metadata": {},
   "outputs": [
    {
     "name": "stdout",
     "output_type": "stream",
     "text": [
      "Sam 1 4.5 True\n",
      "Sam 1 4.5 True\n"
     ]
    }
   ],
   "source": [
    "print('Sam',1,4.5,True)\n",
    "print('Sam',1,4.5,True)"
   ]
  },
  {
   "cell_type": "code",
   "execution_count": 7,
   "metadata": {},
   "outputs": [
    {
     "name": "stdout",
     "output_type": "stream",
     "text": [
      "Sam 1 4.5 True-Sam 1 4.5 True\n"
     ]
    }
   ],
   "source": [
    "print('Sam',1,4.5,True,end='-')\n",
    "print('Sam',1,4.5,True)"
   ]
  },
  {
   "cell_type": "markdown",
   "metadata": {},
   "source": [
    "Q1 :- Print the given strings as per stated format.\n",
    "\n",
    "Given strings:\n",
    "\n",
    "\"Data\" \"Science\" \"Mentorship\" \"Program\" \n",
    "\"By\" \"CampusX\"\n",
    "\n",
    "Output:\n",
    "\n",
    "Data-Science-Mentorship-Program-started-By-CampusX\n",
    "\n",
    "Concept- [Seperator and End]"
   ]
  },
  {
   "cell_type": "code",
   "execution_count": 1,
   "metadata": {},
   "outputs": [
    {
     "name": "stdout",
     "output_type": "stream",
     "text": [
      "DataScienceMentorshipProgram\n"
     ]
    }
   ],
   "source": [
    "print(\"Data\" \"Science\" \"Mentorship\" \"Program\")"
   ]
  },
  {
   "cell_type": "code",
   "execution_count": 3,
   "metadata": {},
   "outputs": [
    {
     "name": "stdout",
     "output_type": "stream",
     "text": [
      "Data-Science-Mentorship-Program\n"
     ]
    }
   ],
   "source": [
    "print(\"Data\",\"Science\",\"Mentorship\",\"Program\",sep='-')"
   ]
  },
  {
   "cell_type": "markdown",
   "metadata": {},
   "source": [
    "Q2:- Write a program that will convert celsius value to fahrenheit.\n",
    "\n",
    "\n",
    "![alt text](c-to-f-formula-1.jpeg)"
   ]
  },
  {
   "cell_type": "code",
   "execution_count": 17,
   "metadata": {},
   "outputs": [
    {
     "name": "stdout",
     "output_type": "stream",
     "text": [
      "The value in fahrenheit is:  104.0\n"
     ]
    }
   ],
   "source": [
    "c = int(input(\"Enter a the value in celcius: \"))\n",
    "fah = c*(9/5)+32\n",
    "print(\"The value in fahrenheit is: \",fah)"
   ]
  },
  {
   "cell_type": "code",
   "execution_count": 15,
   "metadata": {},
   "outputs": [
    {
     "name": "stdout",
     "output_type": "stream",
     "text": [
      "The value in fahrenheit is:  141.8000\n"
     ]
    }
   ],
   "source": [
    "c = int(input(\"Enter a the value in celcius: \"))\n",
    "fah = c*(9/5)+32\n",
    "print(\"The value in fahrenheit is: \",f'{fah:.4f}')"
   ]
  },
  {
   "cell_type": "code",
   "execution_count": 8,
   "metadata": {},
   "outputs": [
    {
     "name": "stdout",
     "output_type": "stream",
     "text": [
      "0.1235\n"
     ]
    }
   ],
   "source": [
    "print(f\"{0.123456789:.4f}\")"
   ]
  },
  {
   "cell_type": "code",
   "execution_count": 14,
   "metadata": {},
   "outputs": [
    {
     "name": "stdout",
     "output_type": "stream",
     "text": [
      "4.7835\n"
     ]
    }
   ],
   "source": [
    "a = 4.78346772\n",
    "print(f\"{a:.4f}\")"
   ]
  },
  {
   "cell_type": "markdown",
   "metadata": {},
   "source": [
    "Q3:- Take 2 numbers as input from the user.Write a program to swap the numbers without using any special python syntax."
   ]
  },
  {
   "cell_type": "code",
   "execution_count": 20,
   "metadata": {},
   "outputs": [
    {
     "name": "stdout",
     "output_type": "stream",
     "text": [
      "after swap:  4 3\n"
     ]
    }
   ],
   "source": [
    "a = int(input(\"Enter the first number: \"))\n",
    "b = int(input(\"Enter the second number: \"))\n",
    "c = a\n",
    "a = b\n",
    "b = c\n",
    "\n",
    "print(\"after swap: \",a,b)"
   ]
  },
  {
   "cell_type": "markdown",
   "metadata": {},
   "source": [
    "Q4:- Write a program to find the euclidean distance between two coordinates.Take both the coordinates from the user as input.\n",
    "\n",
    "\n",
    "![alt text](Euclidean_Distance_1_59a98c213f-1.png)"
   ]
  },
  {
   "cell_type": "code",
   "execution_count": 21,
   "metadata": {},
   "outputs": [
    {
     "name": "stdout",
     "output_type": "stream",
     "text": [
      "3.605551275463989\n",
      "3.61\n"
     ]
    }
   ],
   "source": [
    "import math\n",
    "x1 = int(input(\"Enter the x coordinate for the first point: \"))\n",
    "y1 = int(input(\"Enter the y coordinate for the first point: \"))\n",
    "x2 = int(input(\"Enter the x coordinate for the second point: \"))\n",
    "y2 = int(input(\"Enter the y coordinate for the second point: \"))\n",
    "ed = math.sqrt((x1-y1)**2 + (x2-y2)**2)\n",
    "print(ed)\n",
    "print(round(ed,2))"
   ]
  },
  {
   "cell_type": "markdown",
   "metadata": {},
   "source": [
    "Q5:- Write a program to find the simple interest when the value of principle,rate of interest and time period is provided by the user.\n",
    "\n",
    "![alt text](Formula-of-Simple-Interest-2.webp)"
   ]
  },
  {
   "cell_type": "code",
   "execution_count": 22,
   "metadata": {},
   "outputs": [
    {
     "name": "stdout",
     "output_type": "stream",
     "text": [
      "50.0\n"
     ]
    }
   ],
   "source": [
    "p = int(input(\"Enter the value of principle amount: \"))\n",
    "r = int(input(\"Enter the rate of interest: \"))\n",
    "t = int(input(\"Enter the time period: \"))\n",
    "si = (p*r*t)/100\n",
    "print(si)"
   ]
  },
  {
   "cell_type": "markdown",
   "metadata": {},
   "source": [
    "Q6:- Write a program that will tell the number of dogs and chicken are there when the user will provide the value of total heads and legs."
   ]
  },
  {
   "cell_type": "code",
   "execution_count": 3,
   "metadata": {},
   "outputs": [
    {
     "name": "stdout",
     "output_type": "stream",
     "text": [
      "2 2\n"
     ]
    }
   ],
   "source": [
    "total_heads = int(input(\"Enter the total number of heads: \"))\n",
    "total_legs = int(input(\"Enter the total number of legs: \"))\n",
    "# Using the equations:\n",
    "\n",
    "# C + D = total_heads\n",
    "# 2C + 4D = total_legs\n",
    "# From C + D = total_heads, we get D = total_heads - C\n",
    "# Substitute D in the second equation: 2C + 4(total_heads - C) = total_legs\n",
    "# Simplify the equation:\n",
    "\n",
    "# 2C + 4*total_heads - 4*C = total_legs\n",
    "# -2C + 4*total_heads = total_legs\n",
    "# 4*total_heads - total_legs = 2C\n",
    "# C = (4*total_heads - total_legs) / 2\n",
    "chickens = (4*total_heads - total_legs)/2\n",
    "dogs = total_heads - chickens\n",
    "print(chickens,dogs)\n",
    "#print(int(chickens),int(dogs))\n"
   ]
  },
  {
   "cell_type": "markdown",
   "metadata": {},
   "source": [
    "Q7:- Write a program to find the sum of squares of first n natural numbers where n will be provided by the user.\n",
    "\n",
    "![alt text](Sum-of-Square-of-n-Natural-Numbers-1.webp)"
   ]
  },
  {
   "cell_type": "code",
   "execution_count": 5,
   "metadata": {},
   "outputs": [
    {
     "name": "stdout",
     "output_type": "stream",
     "text": [
      "5.0\n"
     ]
    }
   ],
   "source": [
    "n = int(input(\"Enter a natural number: \"))\n",
    "sum = (n*(n+1)*(2*n+1))/6\n",
    "print(sum)"
   ]
  },
  {
   "cell_type": "markdown",
   "metadata": {},
   "source": [
    "Q8:- Given the first 2 terms of an Arithmetic Series.Find the Nth term of the series. Assume all inputs are provided by the user.\n",
    "\n",
    "Hint - an = a + (n – 1)d"
   ]
  },
  {
   "cell_type": "code",
   "execution_count": 10,
   "metadata": {},
   "outputs": [
    {
     "name": "stdout",
     "output_type": "stream",
     "text": [
      "15\n"
     ]
    }
   ],
   "source": [
    "# incomplete question\n",
    "# Write your code here\n",
    "first_term = int(input('enter 1st term'))\n",
    "second_term = int(input('enter 2nd term'))\n",
    "n = int(input('enter the value of n'))\n",
    "\n",
    "d = second_term - first_term\n",
    "\n",
    "an = first_term + (n-1)*d\n",
    "\n",
    "print(an)"
   ]
  },
  {
   "cell_type": "markdown",
   "metadata": {},
   "source": [
    "Q9:- Given 2 fractions, find the sum of those 2 fractions.Take the numerator and denominator values of the fractions from the user."
   ]
  },
  {
   "cell_type": "code",
   "execution_count": 2,
   "metadata": {},
   "outputs": [
    {
     "name": "stdout",
     "output_type": "stream",
     "text": [
      "1.0\n"
     ]
    }
   ],
   "source": [
    "num1 = int(input('\"Enter the first numarator: '))\n",
    "den1 = int(input('\"Enter the first denominator: '))\n",
    "num2 = int(input('\"Enter the second numarator: '))\n",
    "den2 = int(input('\"Enter the second denominator: '))\n",
    "sum = ((num1*den2) + (num2*den1))/(den1*den2)\n",
    "print(sum)"
   ]
  },
  {
   "cell_type": "markdown",
   "metadata": {},
   "source": [
    "Q10:- Given the height, width and breadth of a milk tank, you have to find out how many glasses of milk can be obtained? Assume all the inputs are provided by the user.\n",
    "\n",
    "Input:\n",
    "\n",
    "Dimensions of the milk tank\n",
    "\n",
    "H = 20cm, L = 20cm, B = 20cm\n",
    "\n",
    "Dimensions of the glass\n",
    "\n",
    "h = 3cm, r = 1cm"
   ]
  },
  {
   "cell_type": "code",
   "execution_count": 6,
   "metadata": {},
   "outputs": [
    {
     "name": "stdout",
     "output_type": "stream",
     "text": [
      "30.239439187460114\n"
     ]
    }
   ],
   "source": [
    "import math\n",
    "h = int(input('\"Enter the height: '))\n",
    "l = int(input('\"Enter the length: '))\n",
    "b = int(input('\"Enter the breadth: '))\n",
    "glass_height = int(input('\"Enter the glass height: '))\n",
    "r = int(input(\"Enter the glass radius: \"))\n",
    "vol = h*l*b\n",
    "glass_vol = glass_height*math.pi*(r**2)\n",
    "print(vol/glass_vol)\n",
    "#print(round(vol/glass_vol))\n",
    "#print(math.floor(vol/glass_vol))"
   ]
  },
  {
   "cell_type": "code",
   "execution_count": null,
   "metadata": {},
   "outputs": [],
   "source": []
  }
 ],
 "metadata": {
  "kernelspec": {
   "display_name": "Python 3",
   "language": "python",
   "name": "python3"
  },
  "language_info": {
   "codemirror_mode": {
    "name": "ipython",
    "version": 3
   },
   "file_extension": ".py",
   "mimetype": "text/x-python",
   "name": "python",
   "nbconvert_exporter": "python",
   "pygments_lexer": "ipython3",
   "version": "3.11.5"
  }
 },
 "nbformat": 4,
 "nbformat_minor": 2
}
